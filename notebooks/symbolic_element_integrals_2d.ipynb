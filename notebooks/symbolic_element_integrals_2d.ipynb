{
 "cells": [
  {
   "cell_type": "code",
   "execution_count": 24,
   "id": "a9ec72e9",
   "metadata": {},
   "outputs": [],
   "source": [
    "import sympy\n",
    "from IPython.display import display\n",
    "import numpy as np"
   ]
  },
  {
   "cell_type": "code",
   "execution_count": 25,
   "id": "fb188943",
   "metadata": {},
   "outputs": [],
   "source": [
    "x, y = sympy.symbols(\"x y\")\n",
    "k11, k12, k21, k22 = sympy.symbols(\"k11 k12 k21 k22\")\n",
    "v1, v2 = sympy.symbols(\"v1 v2\")\n",
    "K = sympy.Matrix([[k11, k12], [k21, k22]])\n",
    "v = sympy.Matrix([v1, v2])"
   ]
  },
  {
   "cell_type": "code",
   "execution_count": 26,
   "id": "b94b4a18",
   "metadata": {},
   "outputs": [],
   "source": [
    "phi0 = 1 - x - y\n",
    "phi1 = x\n",
    "phi2 = y\n",
    "phi = [phi0, phi1, phi2]"
   ]
  },
  {
   "cell_type": "code",
   "execution_count": 27,
   "id": "8d9bc2a5",
   "metadata": {},
   "outputs": [],
   "source": [
    "def get_gradient(f):\n",
    "    return sympy.Matrix([sympy.diff(f, x), sympy.diff(f, y)])\n",
    "dphi = list(map(get_gradient, phi))"
   ]
  },
  {
   "cell_type": "code",
   "execution_count": 28,
   "id": "1dc7de92",
   "metadata": {},
   "outputs": [],
   "source": [
    "def unit_triangle_integral(f):\n",
    "    integraly = sympy.integrate(f, (y, 0, 1-x))\n",
    "    integral = sympy.integrate(integraly, (x, 0, 1))\n",
    "    return integral"
   ]
  },
  {
   "cell_type": "code",
   "execution_count": 29,
   "id": "5ea3a3a4",
   "metadata": {},
   "outputs": [],
   "source": [
    "forcing_vector = sympy.Matrix(list(map(unit_triangle_integral, phi)))\n",
    "mass_matrix = sympy.Matrix([[unit_triangle_integral(ei*ej) for ej in phi] for ei in phi])\n",
    "stiffness_matrix = sympy.Matrix([[unit_triangle_integral((dei).dot(K@dej))\n",
    "                                  for dej in dphi] for dei in dphi])\n",
    "gradient_matrix = sympy.Matrix([[unit_triangle_integral(-dei.dot(v)*ej)\n",
    "                                 for ej in phi] for dei in dphi])"
   ]
  },
  {
   "cell_type": "code",
   "execution_count": 30,
   "id": "0e0bd1aa",
   "metadata": {},
   "outputs": [
    {
     "data": {
      "text/latex": [
       "$\\displaystyle \\left[\\begin{matrix}\\frac{1}{6}\\\\\\frac{1}{6}\\\\\\frac{1}{6}\\end{matrix}\\right]$"
      ],
      "text/plain": [
       "Matrix([\n",
       "[1/6],\n",
       "[1/6],\n",
       "[1/6]])"
      ]
     },
     "metadata": {},
     "output_type": "display_data"
    },
    {
     "data": {
      "text/latex": [
       "$\\displaystyle \\left[\\begin{matrix}\\frac{1}{12} & \\frac{1}{24} & \\frac{1}{24}\\\\\\frac{1}{24} & \\frac{1}{12} & \\frac{1}{24}\\\\\\frac{1}{24} & \\frac{1}{24} & \\frac{1}{12}\\end{matrix}\\right]$"
      ],
      "text/plain": [
       "Matrix([\n",
       "[1/12, 1/24, 1/24],\n",
       "[1/24, 1/12, 1/24],\n",
       "[1/24, 1/24, 1/12]])"
      ]
     },
     "metadata": {},
     "output_type": "display_data"
    },
    {
     "data": {
      "text/latex": [
       "$\\displaystyle \\left[\\begin{matrix}\\frac{k_{11}}{2} + \\frac{k_{12}}{2} + \\frac{k_{21}}{2} + \\frac{k_{22}}{2} & - \\frac{k_{11}}{2} - \\frac{k_{21}}{2} & - \\frac{k_{12}}{2} - \\frac{k_{22}}{2}\\\\- \\frac{k_{11}}{2} - \\frac{k_{12}}{2} & \\frac{k_{11}}{2} & \\frac{k_{12}}{2}\\\\- \\frac{k_{21}}{2} - \\frac{k_{22}}{2} & \\frac{k_{21}}{2} & \\frac{k_{22}}{2}\\end{matrix}\\right]$"
      ],
      "text/plain": [
       "Matrix([\n",
       "[k11/2 + k12/2 + k21/2 + k22/2, -k11/2 - k21/2, -k12/2 - k22/2],\n",
       "[               -k11/2 - k12/2,          k11/2,          k12/2],\n",
       "[               -k21/2 - k22/2,          k21/2,          k22/2]])"
      ]
     },
     "metadata": {},
     "output_type": "display_data"
    },
    {
     "data": {
      "text/latex": [
       "$\\displaystyle \\left[\\begin{matrix}\\frac{v_{1}}{6} + \\frac{v_{2}}{6} & \\frac{v_{1}}{6} + \\frac{v_{2}}{6} & \\frac{v_{1}}{6} + \\frac{v_{2}}{6}\\\\- \\frac{v_{1}}{6} & - \\frac{v_{1}}{6} & - \\frac{v_{1}}{6}\\\\- \\frac{v_{2}}{6} & - \\frac{v_{2}}{6} & - \\frac{v_{2}}{6}\\end{matrix}\\right]$"
      ],
      "text/plain": [
       "Matrix([\n",
       "[v1/6 + v2/6, v1/6 + v2/6, v1/6 + v2/6],\n",
       "[      -v1/6,       -v1/6,       -v1/6],\n",
       "[      -v2/6,       -v2/6,       -v2/6]])"
      ]
     },
     "metadata": {},
     "output_type": "display_data"
    }
   ],
   "source": [
    "display(forcing_vector)\n",
    "display(mass_matrix)\n",
    "display(stiffness_matrix)\n",
    "display(gradient_matrix)"
   ]
  },
  {
   "cell_type": "code",
   "execution_count": 31,
   "id": "f9d3f58e",
   "metadata": {},
   "outputs": [],
   "source": [
    "zeta = phi0*phi1*phi2\n",
    "psi3 = 27*zeta #Normalized by the centroid value\n",
    "psi0 = phi0 - 1/3*psi3\n",
    "psi1 = phi1 - 1/3*psi3\n",
    "psi2 = phi2 - 1/3*psi3\n",
    "psi = [psi0, psi1, psi2, psi3]\n",
    "dpsi = list(map(get_gradient, psi))"
   ]
  },
  {
   "cell_type": "code",
   "execution_count": 32,
   "id": "4e0a35f6",
   "metadata": {},
   "outputs": [
    {
     "data": {
      "text/plain": [
       "[[1, 0, 0, 0],\n",
       " [0, 1, 0, -1.11022302462516e-16],\n",
       " [0, 0, 1, -1.11022302462516e-16],\n",
       " [0, 0, 0, 1.00000000000000]]"
      ]
     },
     "execution_count": 32,
     "metadata": {},
     "output_type": "execute_result"
    }
   ],
   "source": [
    "points = [(0, 0), (1, 0), (0, 1), (1/3, 1/3)]\n",
    "[[psii.subs(x, p[0]).subs(y, p[1]) for p in points] for psii in psi]"
   ]
  },
  {
   "cell_type": "code",
   "execution_count": 33,
   "id": "5b7b4f4e",
   "metadata": {},
   "outputs": [],
   "source": [
    "forcing_vector = sympy.Matrix(list(map(unit_triangle_integral, psi)))\n",
    "mass_matrix = sympy.Matrix([[unit_triangle_integral(ei*ej) for ej in psi] for ei in psi])\n",
    "stiffness_matrix = sympy.Matrix([[unit_triangle_integral((dei).dot(K@dej))\n",
    "                                  for dej in dpsi] for dei in dpsi])\n",
    "gradient_matrix = sympy.Matrix([[unit_triangle_integral(-dei.dot(v)*ej)\n",
    "                                 for ej in psi] for dei in dpsi])"
   ]
  },
  {
   "cell_type": "code",
   "execution_count": 34,
   "id": "a957c263",
   "metadata": {},
   "outputs": [
    {
     "data": {
      "text/latex": [
       "$\\displaystyle \\left[\\begin{matrix}0.0916666666666668\\\\0.0916666666666668\\\\0.0916666666666668\\\\\\frac{9}{40}\\end{matrix}\\right]$"
      ],
      "text/plain": [
       "Matrix([\n",
       "[0.0916666666666668],\n",
       "[0.0916666666666668],\n",
       "[0.0916666666666668],\n",
       "[              9/40]])"
      ]
     },
     "metadata": {},
     "output_type": "display_data"
    },
    {
     "data": {
      "text/latex": [
       "$\\displaystyle \\left[\\begin{matrix}0.0494047619047588 & 0.00773809523809499 & 0.00773809523809632 & 0.0267857142857135\\\\0.00773809523809499 & 0.049404761904762 & 0.00773809523809499 & 0.0267857142857135\\\\0.00773809523809632 & 0.00773809523809499 & 0.0494047619047588 & 0.0267857142857135\\\\0.0267857142857135 & 0.0267857142857135 & 0.0267857142857135 & \\frac{81}{560}\\end{matrix}\\right]$"
      ],
      "text/plain": [
       "Matrix([\n",
       "[ 0.0494047619047588, 0.00773809523809499, 0.00773809523809632, 0.0267857142857135],\n",
       "[0.00773809523809499,   0.049404761904762, 0.00773809523809499, 0.0267857142857135],\n",
       "[0.00773809523809632, 0.00773809523809499,  0.0494047619047588, 0.0267857142857135],\n",
       "[ 0.0267857142857135,  0.0267857142857135,  0.0267857142857135,             81/560]])"
      ]
     },
     "metadata": {},
     "output_type": "display_data"
    },
    {
     "data": {
      "text/latex": [
       "$\\displaystyle \\left[\\begin{matrix}0.950000000000002 k_{11} + 0.725 k_{12} + 0.725 k_{21} + 0.949999999999999 k_{22} & - 0.049999999999998 k_{11} + 0.225 k_{12} - 0.275 k_{21} + 0.449999999999999 k_{22} & 0.450000000000002 k_{11} - 0.275 k_{12} + 0.225 k_{21} - 0.0500000000000007 k_{22} & - 1.35000000000001 k_{11} - 0.675000000000001 k_{12} - 0.675000000000001 k_{21} - 1.35 k_{22}\\\\- 0.049999999999998 k_{11} - 0.275 k_{12} + 0.225 k_{21} + 0.449999999999999 k_{22} & 0.950000000000002 k_{11} + 0.225 k_{12} + 0.225 k_{21} + 0.449999999999999 k_{22} & 0.450000000000002 k_{11} + 0.725 k_{12} + 0.225 k_{21} + 0.449999999999999 k_{22} & - 1.35 k_{11} - 0.675000000000001 k_{12} - 0.675000000000001 k_{21} - 1.35 k_{22}\\\\0.450000000000002 k_{11} + 0.225 k_{12} - 0.275 k_{21} - 0.0500000000000007 k_{22} & 0.450000000000002 k_{11} + 0.225 k_{12} + 0.725 k_{21} + 0.449999999999999 k_{22} & 0.450000000000002 k_{11} + 0.225 k_{12} + 0.225 k_{21} + 0.949999999999999 k_{22} & - 1.35000000000001 k_{11} - 0.675000000000001 k_{12} - 0.675000000000001 k_{21} - 1.35 k_{22}\\\\- 1.35000000000001 k_{11} - 0.675000000000001 k_{12} - 0.675000000000001 k_{21} - 1.35 k_{22} & - 1.35 k_{11} - 0.675000000000001 k_{12} - 0.675000000000001 k_{21} - 1.35 k_{22} & - 1.35000000000001 k_{11} - 0.675000000000001 k_{12} - 0.675000000000001 k_{21} - 1.35 k_{22} & \\frac{81 k_{11}}{20} + \\frac{81 k_{12}}{40} + \\frac{81 k_{21}}{40} + \\frac{81 k_{22}}{20}\\end{matrix}\\right]$"
      ],
      "text/plain": [
       "Matrix([\n",
       "[           0.950000000000002*k11 + 0.725*k12 + 0.725*k21 + 0.949999999999999*k22, -0.049999999999998*k11 + 0.225*k12 - 0.275*k21 + 0.449999999999999*k22,           0.450000000000002*k11 - 0.275*k12 + 0.225*k21 - 0.0500000000000007*k22, -1.35000000000001*k11 - 0.675000000000001*k12 - 0.675000000000001*k21 - 1.35*k22],\n",
       "[          -0.049999999999998*k11 - 0.275*k12 + 0.225*k21 + 0.449999999999999*k22,  0.950000000000002*k11 + 0.225*k12 + 0.225*k21 + 0.449999999999999*k22,            0.450000000000002*k11 + 0.725*k12 + 0.225*k21 + 0.449999999999999*k22,             -1.35*k11 - 0.675000000000001*k12 - 0.675000000000001*k21 - 1.35*k22],\n",
       "[          0.450000000000002*k11 + 0.225*k12 - 0.275*k21 - 0.0500000000000007*k22,  0.450000000000002*k11 + 0.225*k12 + 0.725*k21 + 0.449999999999999*k22,            0.450000000000002*k11 + 0.225*k12 + 0.225*k21 + 0.949999999999999*k22, -1.35000000000001*k11 - 0.675000000000001*k12 - 0.675000000000001*k21 - 1.35*k22],\n",
       "[-1.35000000000001*k11 - 0.675000000000001*k12 - 0.675000000000001*k21 - 1.35*k22,   -1.35*k11 - 0.675000000000001*k12 - 0.675000000000001*k21 - 1.35*k22, -1.35000000000001*k11 - 0.675000000000001*k12 - 0.675000000000001*k21 - 1.35*k22,                                    81*k11/20 + 81*k12/40 + 81*k21/40 + 81*k22/20]])"
      ]
     },
     "metadata": {},
     "output_type": "display_data"
    },
    {
     "data": {
      "text/latex": [
       "$\\displaystyle \\left[\\begin{matrix}0.166666666666666 v_{1} + 0.166666666666667 v_{2} & 0.0166666666666675 v_{1} + 0.0916666666666666 v_{2} & 0.0916666666666668 v_{1} + 0.0166666666666666 v_{2} & 0.224999999999994 v_{1} + 0.225 v_{2}\\\\- 0.0166666666666675 v_{1} + 0.075 v_{2} & - 0.166666666666668 v_{1} & - 0.0916666666666668 v_{1} - 0.075 v_{2} & - 0.225000000000001 v_{1}\\\\0.0750000000000011 v_{1} - 0.0166666666666666 v_{2} & - 0.0749999999999993 v_{1} - 0.0916666666666666 v_{2} & - 0.166666666666667 v_{2} & - 0.225 v_{2}\\\\- 0.225000000000001 v_{1} - 0.225 v_{2} & 0.225000000000001 v_{1} & 0.225 v_{2} & 0\\end{matrix}\\right]$"
      ],
      "text/plain": [
       "Matrix([\n",
       "[  0.166666666666666*v1 + 0.166666666666667*v2,  0.0166666666666675*v1 + 0.0916666666666666*v2, 0.0916666666666668*v1 + 0.0166666666666666*v2, 0.224999999999994*v1 + 0.225*v2],\n",
       "[            -0.0166666666666675*v1 + 0.075*v2,                          -0.166666666666668*v1,             -0.0916666666666668*v1 - 0.075*v2,           -0.225000000000001*v1],\n",
       "[0.0750000000000011*v1 - 0.0166666666666666*v2, -0.0749999999999993*v1 - 0.0916666666666666*v2,                         -0.166666666666667*v2,                       -0.225*v2],\n",
       "[             -0.225000000000001*v1 - 0.225*v2,                           0.225000000000001*v1,                                      0.225*v2,                               0]])"
      ]
     },
     "metadata": {},
     "output_type": "display_data"
    }
   ],
   "source": [
    "display(forcing_vector)\n",
    "display(mass_matrix)\n",
    "display(stiffness_matrix)\n",
    "display(gradient_matrix)"
   ]
  },
  {
   "cell_type": "code",
   "execution_count": 35,
   "id": "7140d5cb",
   "metadata": {},
   "outputs": [
    {
     "name": "stdout",
     "output_type": "stream",
     "text": [
      "np.array([[0.0916666666666668], [0.0916666666666668], [0.0916666666666668], [9/40]])\n",
      "--------------------\n",
      "np.array([[0.0494047619047588, 0.00773809523809499, 0.00773809523809632, 0.0267857142857135], [0.00773809523809499, 0.049404761904762, 0.00773809523809499, 0.0267857142857135], [0.00773809523809632, 0.00773809523809499, 0.0494047619047588, 0.0267857142857135], [0.0267857142857135, 0.0267857142857135, 0.0267857142857135, 81/560]])\n",
      "--------------------\n",
      "np.array([[0.950000000000002*k11 + 0.725*k12 + 0.725*k21 + 0.949999999999999*k22, -0.049999999999998*k11 + 0.225*k12 - 0.275*k21 + 0.449999999999999*k22, 0.450000000000002*k11 - 0.275*k12 + 0.225*k21 - 0.0500000000000007*k22, -1.35000000000001*k11 - 0.675000000000001*k12 - 0.675000000000001*k21 - 1.35*k22], [-0.049999999999998*k11 - 0.275*k12 + 0.225*k21 + 0.449999999999999*k22, 0.950000000000002*k11 + 0.225*k12 + 0.225*k21 + 0.449999999999999*k22, 0.450000000000002*k11 + 0.725*k12 + 0.225*k21 + 0.449999999999999*k22, -1.35*k11 - 0.675000000000001*k12 - 0.675000000000001*k21 - 1.35*k22], [0.450000000000002*k11 + 0.225*k12 - 0.275*k21 - 0.0500000000000007*k22, 0.450000000000002*k11 + 0.225*k12 + 0.725*k21 + 0.449999999999999*k22, 0.450000000000002*k11 + 0.225*k12 + 0.225*k21 + 0.949999999999999*k22, -1.35000000000001*k11 - 0.675000000000001*k12 - 0.675000000000001*k21 - 1.35*k22], [-1.35000000000001*k11 - 0.675000000000001*k12 - 0.675000000000001*k21 - 1.35*k22, -1.35*k11 - 0.675000000000001*k12 - 0.675000000000001*k21 - 1.35*k22, -1.35000000000001*k11 - 0.675000000000001*k12 - 0.675000000000001*k21 - 1.35*k22, (81/20)*k11 + (81/40)*k12 + (81/40)*k21 + (81/20)*k22]])\n",
      "--------------------\n",
      "np.array([[0.166666666666666*v1 + 0.166666666666667*v2, 0.0166666666666675*v1 + 0.0916666666666666*v2, 0.0916666666666668*v1 + 0.0166666666666666*v2, 0.224999999999994*v1 + 0.225*v2], [-0.0166666666666675*v1 + 0.075*v2, -0.166666666666668*v1, -0.0916666666666668*v1 - 0.075*v2, -0.225000000000001*v1], [0.0750000000000011*v1 - 0.0166666666666666*v2, -0.0749999999999993*v1 - 0.0916666666666666*v2, -0.166666666666667*v2, -0.225*v2], [-0.225000000000001*v1 - 0.225*v2, 0.225000000000001*v1, 0.225*v2, 0]])\n",
      "--------------------\n"
     ]
    }
   ],
   "source": [
    "print(sympy.printing.numpy.NumPyPrinter().doprint(forcing_vector).replace('numpy', 'np'))\n",
    "print('-'*20)\n",
    "print(sympy.printing.numpy.NumPyPrinter().doprint(mass_matrix).replace('numpy', 'np'))\n",
    "print('-'*20)\n",
    "print(sympy.printing.numpy.NumPyPrinter().doprint(stiffness_matrix).replace('numpy', 'np'))\n",
    "print('-'*20)\n",
    "print(sympy.printing.numpy.NumPyPrinter().doprint(gradient_matrix).replace('numpy', 'np'))\n",
    "print('-'*20)"
   ]
  },
  {
   "cell_type": "code",
   "execution_count": 41,
   "id": "d4af0222",
   "metadata": {},
   "outputs": [],
   "source": [
    "pressure_velocity_gradient_matrix = sympy.Matrix([[unit_triangle_integral(-dei.dot(v)*ej)\n",
    "                                                   for ej in psi] for dei in dphi])\n",
    "velocity_pressure_gradient_matrix = sympy.Matrix([[unit_triangle_integral(-dei.dot(v)*ej)\n",
    "                                                   for ej in phi] for dei in dpsi])"
   ]
  },
  {
   "cell_type": "code",
   "execution_count": 42,
   "id": "187bbbd8",
   "metadata": {},
   "outputs": [
    {
     "data": {
      "text/latex": [
       "$\\displaystyle \\left[\\begin{matrix}0.0916666666666666 v_{1} + 0.0916666666666666 v_{2} & 0.0916666666666666 v_{1} + 0.0916666666666666 v_{2} & 0.0916666666666666 v_{1} + 0.0916666666666666 v_{2} & \\frac{9 v_{1}}{40} + \\frac{9 v_{2}}{40}\\\\- 0.0916666666666666 v_{1} & - 0.0916666666666666 v_{1} & - 0.0916666666666666 v_{1} & - \\frac{9 v_{1}}{40}\\\\- 0.0916666666666666 v_{2} & - 0.0916666666666666 v_{2} & - 0.0916666666666666 v_{2} & - \\frac{9 v_{2}}{40}\\end{matrix}\\right]$"
      ],
      "text/plain": [
       "Matrix([\n",
       "[0.0916666666666666*v1 + 0.0916666666666666*v2, 0.0916666666666666*v1 + 0.0916666666666666*v2, 0.0916666666666666*v1 + 0.0916666666666666*v2, 9*v1/40 + 9*v2/40],\n",
       "[                       -0.0916666666666666*v1,                        -0.0916666666666666*v1,                        -0.0916666666666666*v1,          -9*v1/40],\n",
       "[                       -0.0916666666666666*v2,                        -0.0916666666666666*v2,                        -0.0916666666666666*v2,          -9*v2/40]])"
      ]
     },
     "metadata": {},
     "output_type": "display_data"
    },
    {
     "data": {
      "text/latex": [
       "$\\displaystyle \\left[\\begin{matrix}0.241666666666666 v_{1} + 0.241666666666667 v_{2} & 0.0916666666666668 v_{1} + 0.166666666666667 v_{2} & 0.166666666666666 v_{1} + 0.0916666666666666 v_{2}\\\\- 0.091666666666667 v_{1} + 0.075 v_{2} & - 0.241666666666667 v_{1} & - 0.166666666666667 v_{1} - 0.075 v_{2}\\\\0.075 v_{1} - 0.0916666666666666 v_{2} & - 0.0750000000000002 v_{1} - 0.166666666666667 v_{2} & - 0.241666666666667 v_{2}\\\\- \\frac{9 v_{1}}{40} - \\frac{9 v_{2}}{40} & \\frac{9 v_{1}}{40} & \\frac{9 v_{2}}{40}\\end{matrix}\\right]$"
      ],
      "text/plain": [
       "Matrix([\n",
       "[0.241666666666666*v1 + 0.241666666666667*v2,  0.0916666666666668*v1 + 0.166666666666667*v2, 0.166666666666666*v1 + 0.0916666666666666*v2],\n",
       "[           -0.091666666666667*v1 + 0.075*v2,                         -0.241666666666667*v1,             -0.166666666666667*v1 - 0.075*v2],\n",
       "[           0.075*v1 - 0.0916666666666666*v2, -0.0750000000000002*v1 - 0.166666666666667*v2,                        -0.241666666666667*v2],\n",
       "[                         -9*v1/40 - 9*v2/40,                                       9*v1/40,                                      9*v2/40]])"
      ]
     },
     "metadata": {},
     "output_type": "display_data"
    }
   ],
   "source": [
    "display(pressure_velocity_gradient_matrix)\n",
    "display(velocity_pressure_gradient_matrix)"
   ]
  },
  {
   "cell_type": "code",
   "execution_count": 43,
   "id": "fd82be03",
   "metadata": {},
   "outputs": [
    {
     "name": "stdout",
     "output_type": "stream",
     "text": [
      "np.array([[0.0916666666666666*v1 + 0.0916666666666666*v2, 0.0916666666666666*v1 + 0.0916666666666666*v2, 0.0916666666666666*v1 + 0.0916666666666666*v2, (9/40)*v1 + (9/40)*v2], [-0.0916666666666666*v1, -0.0916666666666666*v1, -0.0916666666666666*v1, -9/40*v1], [-0.0916666666666666*v2, -0.0916666666666666*v2, -0.0916666666666666*v2, -9/40*v2]])\n",
      "--------------------\n",
      "np.array([[0.241666666666666*v1 + 0.241666666666667*v2, 0.0916666666666668*v1 + 0.166666666666667*v2, 0.166666666666666*v1 + 0.0916666666666666*v2], [-0.091666666666667*v1 + 0.075*v2, -0.241666666666667*v1, -0.166666666666667*v1 - 0.075*v2], [0.075*v1 - 0.0916666666666666*v2, -0.0750000000000002*v1 - 0.166666666666667*v2, -0.241666666666667*v2], [-9/40*v1 - 9/40*v2, (9/40)*v1, (9/40)*v2]])\n",
      "--------------------\n"
     ]
    }
   ],
   "source": [
    "print(sympy.printing.numpy.NumPyPrinter().doprint(pressure_velocity_gradient_matrix).replace('numpy', 'np'))\n",
    "print('-'*20)\n",
    "print(sympy.printing.numpy.NumPyPrinter().doprint(velocity_pressure_gradient_matrix).replace('numpy', 'np'))\n",
    "print('-'*20)"
   ]
  },
  {
   "cell_type": "code",
   "execution_count": null,
   "id": "dd4694c7",
   "metadata": {},
   "outputs": [],
   "source": []
  }
 ],
 "metadata": {
  "kernelspec": {
   "display_name": "Python 3 (ipykernel)",
   "language": "python",
   "name": "python3"
  },
  "language_info": {
   "codemirror_mode": {
    "name": "ipython",
    "version": 3
   },
   "file_extension": ".py",
   "mimetype": "text/x-python",
   "name": "python",
   "nbconvert_exporter": "python",
   "pygments_lexer": "ipython3",
   "version": "3.9.7"
  }
 },
 "nbformat": 4,
 "nbformat_minor": 5
}
